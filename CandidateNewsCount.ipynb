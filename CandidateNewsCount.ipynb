{
 "cells": [
  {
   "cell_type": "code",
   "execution_count": 16,
   "metadata": {},
   "outputs": [],
   "source": [
    "import numpy as np\n",
    "import pandas as pd\n",
    "import matplotlib.pyplot as plt\n",
    "import seaborn as sns\n",
    "import requests\n",
    "from bs4 import BeautifulSoup\n",
    "import datetime"
   ]
  },
  {
   "cell_type": "code",
   "execution_count": 84,
   "metadata": {},
   "outputs": [],
   "source": [
    "import pdb"
   ]
  },
  {
   "cell_type": "markdown",
   "metadata": {},
   "source": [
    "# set up counters"
   ]
  },
  {
   "cell_type": "code",
   "execution_count": 46,
   "metadata": {},
   "outputs": [],
   "source": [
    "# todo: how to store count if extend to daily name scraping?"
   ]
  },
  {
   "cell_type": "code",
   "execution_count": 45,
   "metadata": {},
   "outputs": [],
   "source": [
    "TrackedNames = ['Joe Biden', 'Donald Trump', 'Hillary Clinton', 'Barack Obama', 'Bernie Sanders', 'Mitch McConnell', 'Mitt Romney', 'Nancy Pelosi', 'Kamala Harris', 'Elizabeth Warren', 'Alexandria Ocasio-Cortez']\n",
    "MentionsCounter = dict(zip(TrackedNames, [{'count': 0} for _ in TrackedNames]))"
   ]
  },
  {
   "cell_type": "code",
   "execution_count": 39,
   "metadata": {},
   "outputs": [],
   "source": [
    "PossibleNames = [['joe biden', 'biden'],\n",
    "                 ['donald trump', 'trump', 'donald', 'the president'],\n",
    "                 ['hillary clinton', 'hillary', 'clinton', 'hrc'],\n",
    "                 ['barack obama', 'obama'],\n",
    "                 ['bernie sanders', 'bernie', 'sanders'],\n",
    "                 ['mitch mcconnell', 'mcConnell', 'mitch'],\n",
    "                 ['mitt romney', 'romney', 'mitt'],\n",
    "                 ['nancy pelosi', 'pelosi'],\n",
    "                 ['kamala harris', 'kamala'],\n",
    "                 ['elizabeth warren', 'warren', 'pocahontas'],\n",
    "                 ['alexandria ocasio-cortez', 'aco', 'ocasio-cortez', 'ocasio cortez']]\n",
    "NamesDict = dict(zip(TrackedNames, ))"
   ]
  },
  {
   "cell_type": "code",
   "execution_count": 38,
   "metadata": {},
   "outputs": [],
   "source": [
    "# TODO: function for adding candidates\n",
    "# with arg = list of 2-tuples: primary candidate name, and possible candidate name representations"
   ]
  },
  {
   "cell_type": "code",
   "execution_count": 57,
   "metadata": {},
   "outputs": [
    {
     "name": "stdout",
     "output_type": "stream",
     "text": [
      "Joe Biden {'count': 0, 'Possible Names': ['joe biden', 'biden']}\n",
      "Donald Trump {'count': 0, 'Possible Names': ['donald trump', 'trump', 'donald', 'the president']}\n",
      "Hillary Clinton {'count': 0, 'Possible Names': ['hillary clinton', 'hillary', 'clinton', 'hrc']}\n",
      "Barack Obama {'count': 0, 'Possible Names': ['barack obama', 'obama']}\n",
      "Bernie Sanders {'count': 0, 'Possible Names': ['bernie sanders', 'bernie', 'sanders']}\n",
      "Mitch McConnell {'count': 0, 'Possible Names': ['mitch mcconnell', 'mcConnell', 'mitch']}\n",
      "Mitt Romney {'count': 0, 'Possible Names': ['mitt romney', 'romney', 'mitt']}\n",
      "Nancy Pelosi {'count': 0, 'Possible Names': ['nancy pelosi', 'pelosi']}\n",
      "Kamala Harris {'count': 0, 'Possible Names': ['kamala harris', 'kamala']}\n",
      "Elizabeth Warren {'count': 0, 'Possible Names': ['elizabeth warren', 'warren', 'pocahontas']}\n",
      "Alexandria Ocasio-Cortez {'count': 0, 'Possible Names': ['alexandria ocasio-cortez', 'aco', 'ocasio-cortez', 'ocasio cortez']}\n"
     ]
    }
   ],
   "source": [
    "for ii, candidate_name in enumerate(TrackedNames):\n",
    "    MentionsCounter[candidate_name]['Possible Names'] = PossibleNames[ii]\n",
    "    print(candidate_name, MentionsCounter[candidate_name])"
   ]
  },
  {
   "cell_type": "code",
   "execution_count": 15,
   "metadata": {},
   "outputs": [],
   "source": [
    "MentionsDailyTracker = {}"
   ]
  },
  {
   "cell_type": "markdown",
   "metadata": {},
   "source": [
    "## scrape DrudgeReport"
   ]
  },
  {
   "cell_type": "code",
   "execution_count": 2,
   "metadata": {},
   "outputs": [
    {
     "data": {
      "text/plain": [
       "<Response [200]>"
      ]
     },
     "execution_count": 2,
     "metadata": {},
     "output_type": "execute_result"
    }
   ],
   "source": [
    "page = requests.get(\"https://www.drudgereport.com\")\n",
    "page"
   ]
  },
  {
   "cell_type": "code",
   "execution_count": 4,
   "metadata": {},
   "outputs": [],
   "source": [
    "soup = BeautifulSoup(page.content, 'html.parser')"
   ]
  },
  {
   "cell_type": "code",
   "execution_count": 8,
   "metadata": {},
   "outputs": [],
   "source": [
    "list_of_links = soup.find_all('a')"
   ]
  },
  {
   "cell_type": "markdown",
   "metadata": {},
   "source": [
    "loop over politician, count mentions, update counter\n",
    "\n",
    "count mentions function:\n",
    "set count = 0\n",
    "loop over links if mention found count +=1"
   ]
  },
  {
   "cell_type": "code",
   "execution_count": 109,
   "metadata": {},
   "outputs": [
    {
     "data": {
      "text/plain": [
       "2"
      ]
     },
     "execution_count": 109,
     "metadata": {},
     "output_type": "execute_result"
    }
   ],
   "source": [
    "test_links = ['<a href=\"https://apnews.com/cdff020a9bd2ec42bb21b92827903aff\">TRUMP donald Trump BIG GAMBLE:  Downplaying virus risk, Trump gets back to business as usual...</a>',\n",
    " '<a href=\"https://www.star-telegram.com/news/coronavirus/article243485396.html\">But blahblahtrump outbreak in Tulsa week before MAGA rally! </a>']\n",
    "test_names = MentionsCounter['Donald Trump']['Possible Names']\n",
    "\n",
    "count_mentions(test_links, test_names)"
   ]
  },
  {
   "cell_type": "code",
   "execution_count": 106,
   "metadata": {},
   "outputs": [],
   "source": [
    "def count_mentions(links, possible_names):\n",
    "    '''Count number links that mention a candidate\n",
    "    \n",
    "    Each link is searched for several iterations of possible name variations.\n",
    "    \n",
    "    :param links: list of BeautifulSoup processed html link elements\n",
    "    :param possible_names: list of names corresponding to an individual\n",
    "    :return: number of links mentioning the individual\n",
    "    \n",
    "    >>> links = ['<a href=\"https://apnews.com/cdff020a9bd2ec42bb21b92827903aff\">TRUMP donald Trump BIG GAMBLE:  Downplaying virus risk, Trump gets back to business as usual...</a>',\n",
    " '<a href=\"https://www.star-telegram.com/news/coronavirus/article243485396.html\">But blahblahtrump outbreak in Tulsa week before MAGA rally! </a>']\n",
    "    >>> possible_names = ['donald trump', 'trump', 'donald', 'the president']\n",
    "    >>> count_mentions(links, possible_names)\n",
    "    2\n",
    "    '''\n",
    "    mentions = 0\n",
    "    for single_link in links:\n",
    "        found = False\n",
    "        for name in possible_names:\n",
    "            # this if statement, and the candidate dictionary need refinement\n",
    "            # names, especially ACO can appear inside of other words totally unrelated to the candidate\n",
    "            if name in str(single_link).lower(): # beautifulsoup link elements currently being cast as strings\n",
    "                mentions += 1\n",
    "                break\n",
    "    return mentions"
   ]
  },
  {
   "cell_type": "code",
   "execution_count": 107,
   "metadata": {},
   "outputs": [],
   "source": [
    "for Politician, value in MentionsCounter.items():\n",
    "    '''Count number of stories that mention each politician'''\n",
    "    MentionsCounter[Politician]['count'] = count_mentions(list_of_links,\n",
    "                                                           MentionsCounter[Politician]['Possible Names'])"
   ]
  },
  {
   "cell_type": "code",
   "execution_count": 108,
   "metadata": {},
   "outputs": [
    {
     "data": {
      "text/plain": [
       "{'Joe Biden': {'count': 2, 'Possible Names': ['joe biden', 'biden']},\n",
       " 'Donald Trump': {'count': 12,\n",
       "  'Possible Names': ['donald trump', 'trump', 'donald', 'the president']},\n",
       " 'Hillary Clinton': {'count': 0,\n",
       "  'Possible Names': ['hillary clinton', 'hillary', 'clinton', 'hrc']},\n",
       " 'Barack Obama': {'count': 0, 'Possible Names': ['barack obama', 'obama']},\n",
       " 'Bernie Sanders': {'count': 0,\n",
       "  'Possible Names': ['bernie sanders', 'bernie', 'sanders']},\n",
       " 'Mitch McConnell': {'count': 0,\n",
       "  'Possible Names': ['mitch mcconnell', 'mcConnell', 'mitch']},\n",
       " 'Mitt Romney': {'count': 0,\n",
       "  'Possible Names': ['mitt romney', 'romney', 'mitt']},\n",
       " 'Nancy Pelosi': {'count': 0, 'Possible Names': ['nancy pelosi', 'pelosi']},\n",
       " 'Kamala Harris': {'count': 1, 'Possible Names': ['kamala harris', 'kamala']},\n",
       " 'Elizabeth Warren': {'count': 1,\n",
       "  'Possible Names': ['elizabeth warren', 'warren', 'pocahontas']},\n",
       " 'Alexandria Ocasio-Cortez': {'count': 1,\n",
       "  'Possible Names': ['alexandria ocasio-cortez',\n",
       "   'aco',\n",
       "   'ocasio-cortez',\n",
       "   'ocasio cortez']}}"
      ]
     },
     "execution_count": 108,
     "metadata": {},
     "output_type": "execute_result"
    }
   ],
   "source": [
    "MentionsCounter"
   ]
  },
  {
   "cell_type": "code",
   "execution_count": null,
   "metadata": {},
   "outputs": [],
   "source": []
  }
 ],
 "metadata": {
  "kernelspec": {
   "display_name": "Python 3",
   "language": "python",
   "name": "python3"
  },
  "language_info": {
   "codemirror_mode": {
    "name": "ipython",
    "version": 3
   },
   "file_extension": ".py",
   "mimetype": "text/x-python",
   "name": "python",
   "nbconvert_exporter": "python",
   "pygments_lexer": "ipython3",
   "version": "3.7.4"
  }
 },
 "nbformat": 4,
 "nbformat_minor": 4
}
